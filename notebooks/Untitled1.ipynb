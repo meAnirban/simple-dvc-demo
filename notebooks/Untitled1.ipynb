{
 "cells": [
  {
   "cell_type": "code",
   "execution_count": 2,
   "id": "a56daff4-23bf-4d70-8293-97b70b28ee9c",
   "metadata": {},
   "outputs": [
    {
     "data": {
      "text/plain": [
       "'D:\\\\My_Educational_Stuff\\\\github\\\\mlops\\\\simple_app\\\\notebooks'"
      ]
     },
     "execution_count": 2,
     "metadata": {},
     "output_type": "execute_result"
    }
   ],
   "source": [
    "pwd"
   ]
  },
  {
   "cell_type": "code",
   "execution_count": 2,
   "id": "6346d13c-d5af-48c7-a4b9-389a097a78bd",
   "metadata": {},
   "outputs": [
    {
     "ename": "ModuleNotFoundError",
     "evalue": "No module named 'src.get_data'",
     "output_type": "error",
     "traceback": [
      "\u001b[1;31m---------------------------------------------------------------------------\u001b[0m",
      "\u001b[1;31mModuleNotFoundError\u001b[0m                       Traceback (most recent call last)",
      "\u001b[1;32m~\\AppData\\Local\\Temp/ipykernel_5272/3062975898.py\u001b[0m in \u001b[0;36m<module>\u001b[1;34m\u001b[0m\n\u001b[1;32m----> 1\u001b[1;33m \u001b[1;32mfrom\u001b[0m \u001b[0msrc\u001b[0m\u001b[1;33m.\u001b[0m\u001b[0mget_data\u001b[0m \u001b[1;32mimport\u001b[0m \u001b[0mread_params\u001b[0m\u001b[1;33m\u001b[0m\u001b[1;33m\u001b[0m\u001b[0m\n\u001b[0m\u001b[0;32m      2\u001b[0m \u001b[1;32mimport\u001b[0m \u001b[0margparse\u001b[0m\u001b[1;33m\u001b[0m\u001b[1;33m\u001b[0m\u001b[0m\n\u001b[0;32m      3\u001b[0m \u001b[1;32mimport\u001b[0m \u001b[0mmlflow\u001b[0m\u001b[1;33m\u001b[0m\u001b[1;33m\u001b[0m\u001b[0m\n\u001b[0;32m      4\u001b[0m \u001b[1;32mfrom\u001b[0m \u001b[0mmlflow\u001b[0m\u001b[1;33m.\u001b[0m\u001b[0mtracking\u001b[0m \u001b[1;32mimport\u001b[0m \u001b[0mMlflowClient\u001b[0m\u001b[1;33m\u001b[0m\u001b[1;33m\u001b[0m\u001b[0m\n\u001b[0;32m      5\u001b[0m \u001b[1;32mfrom\u001b[0m \u001b[0mpprint\u001b[0m \u001b[1;32mimport\u001b[0m \u001b[0mpprint\u001b[0m\u001b[1;33m\u001b[0m\u001b[1;33m\u001b[0m\u001b[0m\n",
      "\u001b[1;31mModuleNotFoundError\u001b[0m: No module named 'src.get_data'"
     ]
    }
   ],
   "source": [
    "from src.get_data import read_params\n",
    "import argparse\n",
    "import mlflow\n",
    "from mlflow.tracking import MlflowClient\n",
    "from pprint import pprint\n",
    "import joblib\n",
    "import os\n",
    "\n",
    "os.chdir('D:\\\\My_Educational_Stuff\\\\github\\\\mlops\\\\simple_app')\n",
    "\n",
    "def log_production_model(config_path):\n",
    "    config = read_params(config_path)\n",
    "    \n",
    "    \n",
    "    mlflow_config = config[\"mlflow_config\"] \n",
    "    \n",
    "\n",
    "    model_name = mlflow_config[\"registered_model_name\"]\n",
    "\n",
    "\n",
    "    remote_server_uri = mlflow_config[\"remote_server_uri\"]\n",
    "\n",
    "    mlflow.set_tracking_uri(remote_server_uri)\n",
    "    \n",
    "    \n",
    "    runs = mlflow.search_runs(experiment_ids=1)\n",
    "    lowest = runs[\"metrics.mae\"].sort_values(ascending=True)[0]\n",
    "    lowest_run_id = runs[runs[\"metrics.mae\"] == lowest][\"run_id\"][0]\n",
    "    \n",
    "\n",
    "    client = MlflowClient()\n",
    "    for mv in client.search_model_versions(f\"name='{model_name}'\"):\n",
    "        mv = dict(mv)\n",
    "        \n",
    "        if mv[\"run_id\"] == lowest_run_id:\n",
    "            current_version = mv[\"version\"]\n",
    "            logged_model = mv[\"source\"]\n",
    "            pprint(mv, indent=4)\n",
    "            client.transition_model_version_stage(\n",
    "                name=model_name,\n",
    "                version=current_version,\n",
    "                stage=\"Production\"\n",
    "            )\n",
    "        else:\n",
    "            current_version = mv[\"version\"]\n",
    "            client.transition_model_version_stage(\n",
    "                name=model_name,\n",
    "                version=current_version,\n",
    "                stage=\"Staging\"\n",
    "            )        \n",
    "\n",
    "\n",
    "    loaded_model = mlflow.pyfunc.load_model(logged_model)\n",
    "    \n",
    "    model_path = config[\"webapp_model_dir\"] #\"prediction_service/model\"\n",
    "\n",
    "    joblib.dump(loaded_model, model_path)\n",
    "\n",
    "log_production_model('params.yaml')"
   ]
  },
  {
   "cell_type": "code",
   "execution_count": null,
   "id": "6fdc22c0-c46d-463c-ab54-6cebeea5fc1d",
   "metadata": {},
   "outputs": [],
   "source": []
  }
 ],
 "metadata": {
  "kernelspec": {
   "display_name": "Python 3 (ipykernel)",
   "language": "python",
   "name": "python3"
  },
  "language_info": {
   "codemirror_mode": {
    "name": "ipython",
    "version": 3
   },
   "file_extension": ".py",
   "mimetype": "text/x-python",
   "name": "python",
   "nbconvert_exporter": "python",
   "pygments_lexer": "ipython3",
   "version": "3.9.7"
  }
 },
 "nbformat": 4,
 "nbformat_minor": 5
}
